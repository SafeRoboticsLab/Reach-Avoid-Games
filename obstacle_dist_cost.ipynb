{
 "cells": [
  {
   "cell_type": "code",
   "execution_count": null,
   "metadata": {},
   "outputs": [],
   "source": [
    "import torch\n",
    "import numpy as np\n",
    "import matplotlib.pyplot as plt\n",
    "\n",
    "from cost import Cost\n",
    "from point import Point\n",
    "\n",
    "class ObstacleDistCost(Cost):\n",
    "    def __init__(self, position_indices, point, max_distance, name=\"\"):\n",
    "        \"\"\"\n",
    "        Initialize with dimension to add cost to and a max distance beyond\n",
    "        which we impose no additional cost.\n",
    "        :param position_indices: indices of input corresponding to (x, y)\n",
    "        :type position_indices: (uint, uint)\n",
    "        :param point: center of the obstacle from which to compute distance\n",
    "        :type point: Point\n",
    "        :param max_distance: maximum value of distance to penalize\n",
    "        :type threshold: float\n",
    "        \"\"\"\n",
    "        self._x_index, self._y_index = position_indices\n",
    "        self._point = point\n",
    "        self._max_distance = max_distance\n",
    "        super(ObstacleCost, self).__init__(name)\n",
    "\n",
    "    def __call__(self, x, k=0):\n",
    "        \"\"\"\n",
    "        Evaluate this cost function on the given input state.\n",
    "        NOTE: `x` should be a column vector.\n",
    "        :param x: concatenated state of the two systems\n",
    "        :type x: torch.Tensor\n",
    "        :return: scalar value of cost\n",
    "        :rtype: torch.Tensor\n",
    "        \"\"\"\n",
    "        # Compute relative distance.\n",
    "        dx = x[self._x_index, 0] - self._point.x\n",
    "        dy = x[self._y_index, 0] - self._point.y\n",
    "        relative_distance = torch.sqrt(dx*dx + dy*dy)\n",
    "\n",
    "        return self._max_distance - relative_distance\n",
    "\n",
    "    def render(self, ax=None):\n",
    "        \"\"\" Render this obstacle on the given axes. \"\"\"\n",
    "        circle = plt.Circle(\n",
    "            (self._point.x, self._point.y), self._max_distance,\n",
    "            color=\"r\", fill=True, alpha=0.75)\n",
    "        ax.add_artist(circle)\n",
    "        ax.text(self._point.x - 1.25, self._point.y - 1.25, \"obs\", fontsize=8)"
   ]
  }
 ],
 "metadata": {
  "kernelspec": {
   "display_name": "Python 3",
   "language": "python",
   "name": "python3"
  },
  "language_info": {
   "codemirror_mode": {
    "name": "ipython",
    "version": 3
   },
   "file_extension": ".py",
   "mimetype": "text/x-python",
   "name": "python",
   "nbconvert_exporter": "python",
   "pygments_lexer": "ipython3",
   "version": "3.7.3"
  }
 },
 "nbformat": 4,
 "nbformat_minor": 4
}
