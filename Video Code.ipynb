{
 "cells": [
  {
   "cell_type": "code",
   "execution_count": 26,
   "metadata": {},
   "outputs": [],
   "source": [
    "import glob\n",
    "\n",
    "#f = open('frames.txt','w')\n",
    "#f = open('frames1.txt','w')\n",
    "f = open('frames2.txt', 'w')\n",
    "file_list = []\n",
    "file_index = []\n",
    "#file_prefix = '1player1obs_pinchpoint_radius4.5_'\n",
    "file_prefix = '1player1obs_timeconsistent_radius4.5_looparound_'\n",
    "#file_prefix = '1player_multobs_timeinconsistent_'\n",
    "#print('\\nNamed with wildcard *:')\n",
    "for name in glob.glob(file_prefix + '*'):\n",
    "    file_list.append(name)\n",
    "    file_index.append(int(name.split('_')[-1].split('.')[0]))\n",
    "\n",
    "file_index, file_list = zip(*sorted(zip(file_index, file_list)))\n",
    "\n",
    "for i in file_list:\n",
    "    f.write(i + '\\n')\n",
    "f.close()"
   ]
  },
  {
   "cell_type": "code",
   "execution_count": null,
   "metadata": {},
   "outputs": [],
   "source": []
  }
 ],
 "metadata": {
  "kernelspec": {
   "display_name": "Python 3",
   "language": "python",
   "name": "python3"
  },
  "language_info": {
   "codemirror_mode": {
    "name": "ipython",
    "version": 3
   },
   "file_extension": ".py",
   "mimetype": "text/x-python",
   "name": "python",
   "nbconvert_exporter": "python",
   "pygments_lexer": "ipython3",
   "version": "3.7.3"
  }
 },
 "nbformat": 4,
 "nbformat_minor": 4
}
