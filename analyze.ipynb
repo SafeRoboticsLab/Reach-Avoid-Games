{
 "cells": [
  {
   "cell_type": "code",
   "execution_count": null,
   "id": "f1907293-d2c2-4778-bad5-ca2fb563bb9d",
   "metadata": {},
   "outputs": [],
   "source": [
    "import numpy as np\n",
    "import pandas as pd\n",
    "import matplotlib.pyplot as plt\n",
    "import os\n",
    "import math\n",
    "import pickle\n",
    "from experiment.batch_experiment import Batch"
   ]
  },
  {
   "cell_type": "code",
   "execution_count": null,
   "id": "0b7332e1-6945-4a1b-adfd-72f4cd4aaea9",
   "metadata": {},
   "outputs": [],
   "source": [
    "batch_name = \"batch-2022-02-18\"\n",
    "time_consistent_batch = Batch(batch_name, \"exp_time_consistent\")\n",
    "time_inconsistent_batch = Batch(batch_name, \"exp_time_inconsistent\")"
   ]
  },
  {
   "cell_type": "code",
   "execution_count": null,
   "id": "ffda4d1b",
   "metadata": {},
   "outputs": [],
   "source": [
    "time_consistent_batch.get_convergence_rate()"
   ]
  },
  {
   "cell_type": "code",
   "execution_count": null,
   "id": "e944fa06",
   "metadata": {},
   "outputs": [],
   "source": [
    "time_inconsistent_batch.get_convergence_rate()"
   ]
  },
  {
   "cell_type": "code",
   "execution_count": null,
   "id": "048ac65e-0be6-4390-b96b-b9d57fb63b59",
   "metadata": {},
   "outputs": [],
   "source": [
    "time_consistent_batch.visualize_all_runs()"
   ]
  },
  {
   "cell_type": "code",
   "execution_count": null,
   "id": "0c73dfbf-36b3-4313-9e7a-51f9fafb3885",
   "metadata": {},
   "outputs": [],
   "source": [
    "time_inconsistent_batch.visualize_all_runs()"
   ]
  },
  {
   "cell_type": "code",
   "execution_count": null,
   "id": "72323aef-190f-4b7e-95f2-db75396c7363",
   "metadata": {},
   "outputs": [],
   "source": [
    "time_consistent_batch.get_statistics()"
   ]
  },
  {
   "cell_type": "code",
   "execution_count": null,
   "id": "90e34991-a453-4e68-8195-8922a44bc4f9",
   "metadata": {},
   "outputs": [],
   "source": [
    "time_consistent_batch.info"
   ]
  },
  {
   "cell_type": "code",
   "execution_count": null,
   "id": "f2af424a-9e7e-4917-9187-6f44f9a7bcb4",
   "metadata": {},
   "outputs": [],
   "source": [
    "time_consistent_success_index = time_consistent_batch.data[\"experiment\"][time_consistent_batch.data[\"is_converged\"] == True].index\n",
    "time_inconsistent_success_index = time_inconsistent_batch.data[\"experiment\"][time_inconsistent_batch.data[\"is_converged\"] == True].index"
   ]
  },
  {
   "cell_type": "code",
   "execution_count": null,
   "id": "10b3d401-0fb7-4db6-8962-22ad862b024b",
   "metadata": {},
   "outputs": [],
   "source": [
    "def common_member(a, b):\n",
    "    a_set = set(a)\n",
    "    b_set = set(b)\n",
    " \n",
    "    if (a_set & b_set):\n",
    "        return a_set & b_set\n",
    "    else:\n",
    "        print(\"No common elements\")"
   ]
  },
  {
   "cell_type": "code",
   "execution_count": null,
   "id": "919968de-5ddb-47e8-9084-85dd7002c18b",
   "metadata": {},
   "outputs": [],
   "source": [
    "common_index = sorted(common_member(time_consistent_success_index, time_inconsistent_success_index))"
   ]
  },
  {
   "cell_type": "code",
   "execution_count": null,
   "id": "d7677c03-9025-4cf2-acb6-e9a5c0486b76",
   "metadata": {},
   "outputs": [],
   "source": [
    "filtered_time_consistent_data = time_consistent_batch.data.iloc[common_index]\n",
    "filtered_time_inconsistent_data = time_inconsistent_batch.data.iloc[common_index]"
   ]
  },
  {
   "cell_type": "code",
   "execution_count": null,
   "id": "2d5d8232-c25f-43d3-88fd-7606b712a59b",
   "metadata": {},
   "outputs": [],
   "source": [
    "filtered_time_consistent_data[\"iteration\"].describe()"
   ]
  },
  {
   "cell_type": "code",
   "execution_count": null,
   "id": "9ac05fd4-36e8-4a3c-962a-faf95af6191d",
   "metadata": {},
   "outputs": [],
   "source": [
    "filtered_time_inconsistent_data[\"iteration\"].describe()"
   ]
  },
  {
   "cell_type": "code",
   "execution_count": null,
   "id": "721a2d18-29b2-4060-9a0a-ef4e0f005772",
   "metadata": {},
   "outputs": [],
   "source": [
    "filtered_time_consistent_data[\"iteration\"].hist(bins=20)"
   ]
  },
  {
   "cell_type": "code",
   "execution_count": null,
   "id": "042fdc57-5e2a-4dbe-8f14-dfe6e583a8c7",
   "metadata": {},
   "outputs": [],
   "source": [
    "filtered_time_inconsistent_data[\"iteration\"].hist(bins=20)"
   ]
  }
 ],
 "metadata": {
  "interpreter": {
   "hash": "1a44a64a5df98cd69b26cb59f80f889db35614bf21465b1934bf30010808dbf5"
  },
  "kernelspec": {
   "display_name": "Python 3.7.3 64-bit ('reach-avoid-games': conda)",
   "language": "python",
   "name": "python3"
  },
  "language_info": {
   "codemirror_mode": {
    "name": "ipython",
    "version": 3
   },
   "file_extension": ".py",
   "mimetype": "text/x-python",
   "name": "python",
   "nbconvert_exporter": "python",
   "pygments_lexer": "ipython3",
   "version": "3.7.3"
  }
 },
 "nbformat": 4,
 "nbformat_minor": 5
}
